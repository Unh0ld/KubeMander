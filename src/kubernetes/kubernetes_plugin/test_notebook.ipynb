{
 "cells": [
  {
   "cell_type": "code",
   "execution_count": 1,
   "metadata": {},
   "outputs": [
    {
     "name": "stdout",
     "output_type": "stream",
     "text": [
      "Hi\n"
     ]
    }
   ],
   "source": [
    "print(\"Hi\")"
   ]
  },
  {
   "cell_type": "code",
   "execution_count": 2,
   "metadata": {},
   "outputs": [],
   "source": [
    "import kubernetes_plugin"
   ]
  },
  {
   "cell_type": "code",
   "execution_count": 3,
   "metadata": {},
   "outputs": [
    {
     "data": {
      "text/plain": [
       "' Datentr�ger in Laufwerk D: ist Volume\\r\\n Volumeseriennummer: 9493-3E91\\r\\n\\r\\n Verzeichnis von d:\\\\Programmieren\\\\AutoGPT\\\\KubeMander\\\\src\\\\auto_gpt_plugin_template\\\\kubernetes_plugin\\r\\n\\r\\n04.05.2023  21:01    <DIR>          .\\r\\n04.05.2023  21:01    <DIR>          ..\\r\\n04.05.2023  21:17               327 kubernetes_plugin.py\\r\\n04.05.2023  20:54                 0 test_notebook.ipynb\\r\\n04.05.2023  21:17    <DIR>          __pycache__\\r\\n               2 Datei(en),            327 Bytes\\r\\n               3 Verzeichnis(se), 227.280.855.040 Bytes frei\\r\\n'"
      ]
     },
     "execution_count": 3,
     "metadata": {},
     "output_type": "execute_result"
    }
   ],
   "source": [
    "kubernetes_plugin._kubectl_command(\"dir\")"
   ]
  },
  {
   "cell_type": "code",
   "execution_count": 5,
   "metadata": {},
   "outputs": [],
   "source": [
    "import subprocess"
   ]
  },
  {
   "cell_type": "code",
   "execution_count": 6,
   "metadata": {},
   "outputs": [],
   "source": [
    "command = \"dir\""
   ]
  },
  {
   "cell_type": "code",
   "execution_count": 9,
   "metadata": {},
   "outputs": [
    {
     "data": {
      "text/plain": [
       "' Datentr�ger in Laufwerk D: ist Volume\\r\\n Volumeseriennummer: 9493-3E91\\r\\n\\r\\n Verzeichnis von d:\\\\Programmieren\\\\AutoGPT\\\\KubeMander\\\\src\\\\auto_gpt_plugin_template\\\\kubernetes_plugin\\r\\n\\r\\n04.05.2023  21:01    <DIR>          .\\r\\n04.05.2023  21:01    <DIR>          ..\\r\\n04.05.2023  20:38               310 kubernetes_plugin.py\\r\\n04.05.2023  20:54                 0 test_notebook.ipynb\\r\\n04.05.2023  21:01    <DIR>          __pycache__\\r\\n               2 Datei(en),            310 Bytes\\r\\n               3 Verzeichnis(se), 227.280.855.040 Bytes frei\\r\\n'"
      ]
     },
     "execution_count": 9,
     "metadata": {},
     "output_type": "execute_result"
    }
   ],
   "source": [
    "subprocess.check_output(command, shell=True).decode(\"utf-8\", errors=\"replace\")"
   ]
  },
  {
   "cell_type": "code",
   "execution_count": null,
   "metadata": {},
   "outputs": [],
   "source": []
  }
 ],
 "metadata": {
  "kernelspec": {
   "display_name": "myenv",
   "language": "python",
   "name": "python3"
  },
  "language_info": {
   "codemirror_mode": {
    "name": "ipython",
    "version": 3
   },
   "file_extension": ".py",
   "mimetype": "text/x-python",
   "name": "python",
   "nbconvert_exporter": "python",
   "pygments_lexer": "ipython3",
   "version": "3.11.0"
  },
  "orig_nbformat": 4
 },
 "nbformat": 4,
 "nbformat_minor": 2
}
